{
  "nbformat": 4,
  "nbformat_minor": 0,
  "metadata": {
    "colab": {
      "provenance": [],
      "authorship_tag": "ABX9TyPkfN5lYLKKNrYuR5aiyk1o",
      "include_colab_link": true
    },
    "kernelspec": {
      "name": "python3",
      "display_name": "Python 3"
    },
    "language_info": {
      "name": "python"
    }
  },
  "cells": [
    {
      "cell_type": "markdown",
      "metadata": {
        "id": "view-in-github",
        "colab_type": "text"
      },
      "source": [
        "<a href=\"https://colab.research.google.com/github/DIKSHANTSHARMA1234/REINFOREMENT-LEARNING/blob/main/POLICY__AND__VALUE__ITERATION.ipynb\" target=\"_parent\"><img src=\"https://colab.research.google.com/assets/colab-badge.svg\" alt=\"Open In Colab\"/></a>"
      ]
    },
    {
      "cell_type": "code",
      "execution_count": null,
      "metadata": {
        "id": "htnv7Guj7LT_"
      },
      "outputs": [],
      "source": [
        "import numpy as np"
      ]
    },
    {
      "cell_type": "markdown",
      "source": [],
      "metadata": {
        "id": "mjhtxw-b_RFv"
      }
    },
    {
      "cell_type": "code",
      "source": [
        "states = [0,1,2,3,4]\n",
        "action=[0,1]\n",
        "N_STATES = len(states)\n",
        "N_ACTIONS = len(action)\n",
        "\n"
      ],
      "metadata": {
        "id": "s3kj2OSM_Ri9"
      },
      "execution_count": null,
      "outputs": []
    },
    {
      "cell_type": "code",
      "source": [
        "print(N_STATES)"
      ],
      "metadata": {
        "colab": {
          "base_uri": "https://localhost:8080/"
        },
        "id": "BQtmF1zaAJT5",
        "outputId": "6af271ea-72c0-46db-d69d-16bed4bbd527"
      },
      "execution_count": null,
      "outputs": [
        {
          "output_type": "stream",
          "name": "stdout",
          "text": [
            "5\n"
          ]
        }
      ]
    },
    {
      "cell_type": "code",
      "source": [
        "print(N_ACTIONS)"
      ],
      "metadata": {
        "colab": {
          "base_uri": "https://localhost:8080/"
        },
        "id": "_cDRyEf9AOGf",
        "outputId": "6e81988b-2a4f-420b-e4cb-c426da014638"
      },
      "execution_count": null,
      "outputs": [
        {
          "output_type": "stream",
          "name": "stdout",
          "text": [
            "2\n"
          ]
        }
      ]
    },
    {
      "cell_type": "code",
      "source": [
        "P = np.zeros((N_STATES,N_ACTIONS,N_STATES)) #TRANSITIONS PROBABLITY"
      ],
      "metadata": {
        "id": "b0Mj_T1XAUqo"
      },
      "execution_count": null,
      "outputs": []
    },
    {
      "cell_type": "code",
      "source": [
        "print(P)"
      ],
      "metadata": {
        "colab": {
          "base_uri": "https://localhost:8080/"
        },
        "id": "p3EZn2JuAXEx",
        "outputId": "0b2bdce3-0782-4a48-9d3a-39b7e3cb07a6"
      },
      "execution_count": null,
      "outputs": [
        {
          "output_type": "stream",
          "name": "stdout",
          "text": [
            "[[[0. 0. 0. 0. 0.]\n",
            "  [0. 0. 0. 0. 0.]]\n",
            "\n",
            " [[0. 0. 0. 0. 0.]\n",
            "  [0. 0. 0. 0. 0.]]\n",
            "\n",
            " [[0. 0. 0. 0. 0.]\n",
            "  [0. 0. 0. 0. 0.]]\n",
            "\n",
            " [[0. 0. 0. 0. 0.]\n",
            "  [0. 0. 0. 0. 0.]]\n",
            "\n",
            " [[0. 0. 0. 0. 0.]\n",
            "  [0. 0. 0. 0. 0.]]]\n"
          ]
        }
      ]
    },
    {
      "cell_type": "code",
      "source": [
        "R = np.zeros((N_STATES,N_ACTIONS,N_STATES))  #REWARDS"
      ],
      "metadata": {
        "id": "ivmr-oVPAaTu"
      },
      "execution_count": null,
      "outputs": []
    },
    {
      "cell_type": "code",
      "source": [
        "print(R)"
      ],
      "metadata": {
        "colab": {
          "base_uri": "https://localhost:8080/"
        },
        "id": "lfh5AbgRAq43",
        "outputId": "238399f8-fd3d-4c36-f965-e10c6fc34a38"
      },
      "execution_count": null,
      "outputs": [
        {
          "output_type": "stream",
          "name": "stdout",
          "text": [
            "[[[0. 0. 0. 0. 0.]\n",
            "  [0. 0. 0. 0. 0.]]\n",
            "\n",
            " [[0. 0. 0. 0. 0.]\n",
            "  [0. 0. 0. 0. 0.]]\n",
            "\n",
            " [[0. 0. 0. 0. 0.]\n",
            "  [0. 0. 0. 0. 0.]]\n",
            "\n",
            " [[0. 0. 0. 0. 0.]\n",
            "  [0. 0. 0. 0. 0.]]\n",
            "\n",
            " [[0. 0. 0. 0. 0.]\n",
            "  [0. 0. 0. 0. 0.]]]\n"
          ]
        }
      ]
    },
    {
      "cell_type": "code",
      "source": [
        "P[0,0,1] =1.0\n"
      ],
      "metadata": {
        "id": "uvMakt-KA_ap"
      },
      "execution_count": null,
      "outputs": []
    },
    {
      "cell_type": "code",
      "source": [
        "print(P)"
      ],
      "metadata": {
        "colab": {
          "base_uri": "https://localhost:8080/"
        },
        "id": "oKmGqAi5BjnB",
        "outputId": "ad22f428-9653-4238-b4f9-1c5df9a32fb1"
      },
      "execution_count": null,
      "outputs": [
        {
          "output_type": "stream",
          "name": "stdout",
          "text": [
            "[[[0. 1. 0. 0. 0.]\n",
            "  [0. 0. 0. 0. 0.]]\n",
            "\n",
            " [[0. 0. 0. 0. 0.]\n",
            "  [0. 0. 1. 0. 0.]]\n",
            "\n",
            " [[0. 0. 0. 1. 0.]\n",
            "  [0. 0. 0. 0. 0.]]\n",
            "\n",
            " [[0. 0. 0. 0. 0.]\n",
            "  [0. 0. 0. 0. 1.]]\n",
            "\n",
            " [[0. 0. 0. 0. 1.]\n",
            "  [0. 0. 0. 0. 0.]]]\n"
          ]
        }
      ]
    },
    {
      "cell_type": "code",
      "source": [
        "\n",
        "P[2,0,3] =1.0\n"
      ],
      "metadata": {
        "id": "Ub2GHiZfBoCw"
      },
      "execution_count": null,
      "outputs": []
    },
    {
      "cell_type": "code",
      "source": [
        "print(P)"
      ],
      "metadata": {
        "colab": {
          "base_uri": "https://localhost:8080/"
        },
        "id": "z6rJKwF1Br5G",
        "outputId": "8e89385e-3f11-4823-b139-f5eab27b23fd"
      },
      "execution_count": null,
      "outputs": [
        {
          "output_type": "stream",
          "name": "stdout",
          "text": [
            "[[[0. 1. 0. 0. 0.]\n",
            "  [0. 0. 0. 0. 0.]]\n",
            "\n",
            " [[0. 0. 0. 0. 0.]\n",
            "  [0. 0. 1. 0. 0.]]\n",
            "\n",
            " [[0. 0. 0. 1. 0.]\n",
            "  [0. 0. 0. 0. 0.]]\n",
            "\n",
            " [[0. 0. 0. 0. 0.]\n",
            "  [0. 0. 0. 0. 1.]]\n",
            "\n",
            " [[0. 0. 0. 0. 1.]\n",
            "  [0. 0. 0. 0. 0.]]]\n"
          ]
        }
      ]
    },
    {
      "cell_type": "code",
      "source": [
        "P[3,1,4] =1.0\n"
      ],
      "metadata": {
        "id": "gMNC2BUxBx08"
      },
      "execution_count": null,
      "outputs": []
    },
    {
      "cell_type": "code",
      "source": [
        "print(P)"
      ],
      "metadata": {
        "colab": {
          "base_uri": "https://localhost:8080/"
        },
        "id": "81M9awT-Bzpn",
        "outputId": "670ceee3-b4da-404a-9e88-a4d041a3d0e0"
      },
      "execution_count": null,
      "outputs": [
        {
          "output_type": "stream",
          "name": "stdout",
          "text": [
            "[[[0. 1. 0. 0. 0.]\n",
            "  [0. 0. 0. 0. 0.]]\n",
            "\n",
            " [[0. 0. 0. 0. 0.]\n",
            "  [0. 0. 1. 0. 0.]]\n",
            "\n",
            " [[0. 0. 0. 1. 0.]\n",
            "  [0. 0. 0. 0. 0.]]\n",
            "\n",
            " [[0. 0. 0. 0. 0.]\n",
            "  [0. 0. 0. 0. 1.]]\n",
            "\n",
            " [[0. 0. 0. 0. 1.]\n",
            "  [0. 0. 0. 0. 0.]]]\n"
          ]
        }
      ]
    },
    {
      "cell_type": "code",
      "source": [
        "P[4,0,4] =1.0"
      ],
      "metadata": {
        "id": "E2QioU_tB3kM"
      },
      "execution_count": null,
      "outputs": []
    },
    {
      "cell_type": "code",
      "source": [
        "print(P)"
      ],
      "metadata": {
        "colab": {
          "base_uri": "https://localhost:8080/"
        },
        "id": "QJz4Pim5B1gk",
        "outputId": "84f6a4ef-e963-4d50-c2b5-96e66f0f2488"
      },
      "execution_count": null,
      "outputs": [
        {
          "output_type": "stream",
          "name": "stdout",
          "text": [
            "[[[0. 1. 0. 0. 0.]\n",
            "  [0. 0. 0. 0. 0.]]\n",
            "\n",
            " [[0. 0. 0. 0. 0.]\n",
            "  [0. 0. 1. 0. 0.]]\n",
            "\n",
            " [[0. 0. 0. 1. 0.]\n",
            "  [0. 0. 0. 0. 0.]]\n",
            "\n",
            " [[0. 0. 0. 0. 0.]\n",
            "  [0. 0. 0. 0. 1.]]\n",
            "\n",
            " [[0. 0. 0. 0. 1.]\n",
            "  [0. 0. 0. 0. 0.]]]\n"
          ]
        }
      ]
    },
    {
      "cell_type": "code",
      "source": [
        "R[0,0,1]=1"
      ],
      "metadata": {
        "id": "R9_ppQ7qB7hE"
      },
      "execution_count": null,
      "outputs": []
    },
    {
      "cell_type": "code",
      "source": [
        "print(R)"
      ],
      "metadata": {
        "colab": {
          "base_uri": "https://localhost:8080/"
        },
        "id": "IdCtlxCpCAKf",
        "outputId": "5ad75d76-80f3-427b-ed04-40dbaad87c3b"
      },
      "execution_count": null,
      "outputs": [
        {
          "output_type": "stream",
          "name": "stdout",
          "text": [
            "[[[0. 1. 0. 0. 0.]\n",
            "  [0. 0. 0. 0. 0.]]\n",
            "\n",
            " [[0. 0. 0. 0. 0.]\n",
            "  [0. 0. 0. 0. 0.]]\n",
            "\n",
            " [[0. 0. 0. 0. 0.]\n",
            "  [0. 0. 0. 0. 0.]]\n",
            "\n",
            " [[0. 0. 0. 0. 0.]\n",
            "  [0. 0. 0. 0. 0.]]\n",
            "\n",
            " [[0. 0. 0. 0. 0.]\n",
            "  [0. 0. 0. 0. 0.]]]\n"
          ]
        }
      ]
    },
    {
      "cell_type": "code",
      "source": [
        "R[1,1,2]=10"
      ],
      "metadata": {
        "id": "sTXu38BGCCmu"
      },
      "execution_count": null,
      "outputs": []
    },
    {
      "cell_type": "code",
      "source": [
        "print(R)"
      ],
      "metadata": {
        "colab": {
          "base_uri": "https://localhost:8080/"
        },
        "id": "ixl5XxvFCJng",
        "outputId": "a96aac98-b4e8-4f1f-cb83-829eed3c810a"
      },
      "execution_count": null,
      "outputs": [
        {
          "output_type": "stream",
          "name": "stdout",
          "text": [
            "[[[0. 1. 0. 0. 0.]\n",
            "  [0. 0. 0. 0. 0.]]\n",
            "\n",
            " [[0. 0. 0. 0. 0.]\n",
            "  [0. 0. 0. 0. 0.]]\n",
            "\n",
            " [[0. 0. 0. 0. 0.]\n",
            "  [0. 0. 0. 0. 0.]]\n",
            "\n",
            " [[0. 0. 0. 0. 0.]\n",
            "  [0. 0. 0. 0. 0.]]\n",
            "\n",
            " [[0. 0. 0. 0. 0.]\n",
            "  [0. 0. 0. 0. 0.]]]\n"
          ]
        }
      ]
    },
    {
      "cell_type": "code",
      "source": [
        "R[2,0,3]=100"
      ],
      "metadata": {
        "id": "VCEysVrTCTxI"
      },
      "execution_count": null,
      "outputs": []
    },
    {
      "cell_type": "code",
      "source": [
        "print(R)"
      ],
      "metadata": {
        "colab": {
          "base_uri": "https://localhost:8080/"
        },
        "id": "x-Z33p5zCg-e",
        "outputId": "b1474197-7011-4071-d83a-25b2b7431310"
      },
      "execution_count": null,
      "outputs": [
        {
          "output_type": "stream",
          "name": "stdout",
          "text": [
            "[[[  0.   1.   0.   0.   0.]\n",
            "  [  0.   0.   0.   0.   0.]]\n",
            "\n",
            " [[  0.   0.   0.   0.   0.]\n",
            "  [  0.   0.   0.   0.   0.]]\n",
            "\n",
            " [[  0.   0.   0. 100.   0.]\n",
            "  [  0.   0.   0.   0.   0.]]\n",
            "\n",
            " [[  0.   0.   0.   0.   0.]\n",
            "  [  0.   0.   0.   0.   0.]]\n",
            "\n",
            " [[  0.   0.   0.   0.   0.]\n",
            "  [  0.   0.   0.   0.   0.]]]\n"
          ]
        }
      ]
    },
    {
      "cell_type": "code",
      "source": [
        "R[3,1,4]=1000"
      ],
      "metadata": {
        "id": "uQfX9F5CCYIu"
      },
      "execution_count": null,
      "outputs": []
    },
    {
      "cell_type": "code",
      "source": [
        "print(R)"
      ],
      "metadata": {
        "colab": {
          "base_uri": "https://localhost:8080/"
        },
        "id": "BvwgjpSaCjvA",
        "outputId": "0a9fa74e-fc6f-4e3f-835b-7ae239a5c85c"
      },
      "execution_count": null,
      "outputs": [
        {
          "output_type": "stream",
          "name": "stdout",
          "text": [
            "[[[   0.    1.    0.    0.    0.]\n",
            "  [   0.    0.    0.    0.    0.]]\n",
            "\n",
            " [[   0.    0.    0.    0.    0.]\n",
            "  [   0.    0.    0.    0.    0.]]\n",
            "\n",
            " [[   0.    0.    0.  100.    0.]\n",
            "  [   0.    0.    0.    0.    0.]]\n",
            "\n",
            " [[   0.    0.    0.    0.    0.]\n",
            "  [   0.    0.    0.    0. 1000.]]\n",
            "\n",
            " [[   0.    0.    0.    0.    0.]\n",
            "  [   0.    0.    0.    0.    0.]]]\n"
          ]
        }
      ]
    },
    {
      "cell_type": "code",
      "source": [
        "R[4,0,4]=1.0"
      ],
      "metadata": {
        "id": "zQGxGnlpCbnc"
      },
      "execution_count": null,
      "outputs": []
    },
    {
      "cell_type": "code",
      "source": [
        "print(R)"
      ],
      "metadata": {
        "colab": {
          "base_uri": "https://localhost:8080/"
        },
        "id": "OrdIHR9yCovl",
        "outputId": "85bc5e17-7262-4fc6-f34e-6bb2333cd95f"
      },
      "execution_count": null,
      "outputs": [
        {
          "output_type": "stream",
          "name": "stdout",
          "text": [
            "[[[   0.    1.    0.    0.    0.]\n",
            "  [   0.    0.    0.    0.    0.]]\n",
            "\n",
            " [[   0.    0.    0.    0.    0.]\n",
            "  [   0.    0.    0.    0.    0.]]\n",
            "\n",
            " [[   0.    0.    0.  100.    0.]\n",
            "  [   0.    0.    0.    0.    0.]]\n",
            "\n",
            " [[   0.    0.    0.    0.    0.]\n",
            "  [   0.    0.    0.    0. 1000.]]\n",
            "\n",
            " [[   0.    0.    0.    0.    1.]\n",
            "  [   0.    0.    0.    0.    0.]]]\n"
          ]
        }
      ]
    },
    {
      "cell_type": "code",
      "source": [
        "gamma = 0.75"
      ],
      "metadata": {
        "id": "7fI08PU9CqUG"
      },
      "execution_count": null,
      "outputs": []
    },
    {
      "cell_type": "code",
      "source": [
        "policy  = [0 for s in range (N_STATES)]\n",
        "V = np.zeros(N_STATES)\n",
        "print(\"INTIAL POLICY\",policy)"
      ],
      "metadata": {
        "colab": {
          "base_uri": "https://localhost:8080/"
        },
        "id": "qXmsYQGsCwcb",
        "outputId": "5e4f5bfc-82cf-4b8d-8686-5b9ed73ec18f"
      },
      "execution_count": null,
      "outputs": [
        {
          "output_type": "stream",
          "name": "stdout",
          "text": [
            "INTIAL POLICY [0, 0, 0, 0, 0]\n"
          ]
        }
      ]
    },
    {
      "cell_type": "code",
      "source": [
        "is_value_changed =True\n",
        "iterations = 0\n",
        "while is_value_changed:\n",
        "   is_value_changed = False\n",
        "   iterations +=1\n",
        "  ##run iteration for each state\n",
        "   for s in range(N_STATES):\n",
        "    V[s]=sum([P[s,policy[s],s1]*(R[s,policy[s],s1]+ gamma*V[s1]) for s1 in range (N_STATES)])\n",
        "  "
      ],
      "metadata": {
        "id": "4IpAtQMpDRyQ"
      },
      "execution_count": null,
      "outputs": []
    },
    {
      "cell_type": "code",
      "source": [
        "for s in range (N_STATES):\n",
        "  q_best = V[s]\n",
        "  "
      ],
      "metadata": {
        "id": "WNeoziEeFRNN"
      },
      "execution_count": null,
      "outputs": []
    },
    {
      "cell_type": "code",
      "source": [
        "print(s)"
      ],
      "metadata": {
        "colab": {
          "base_uri": "https://localhost:8080/"
        },
        "id": "FP1Jx3xrFnm8",
        "outputId": "552ae582-8c26-4b37-e6d1-97394b2dcf6a"
      },
      "execution_count": null,
      "outputs": [
        {
          "output_type": "stream",
          "name": "stdout",
          "text": [
            "4\n"
          ]
        }
      ]
    },
    {
      "cell_type": "code",
      "source": [
        "print(q_best)"
      ],
      "metadata": {
        "colab": {
          "base_uri": "https://localhost:8080/"
        },
        "id": "jTf56pitFp95",
        "outputId": "9c62d98a-c1a0-4123-98d8-fd3385bc2971"
      },
      "execution_count": null,
      "outputs": [
        {
          "output_type": "stream",
          "name": "stdout",
          "text": [
            "1.0\n"
          ]
        }
      ]
    },
    {
      "cell_type": "code",
      "source": [
        "for a in range (N_ACTIONS):\n",
        "  q_sa = sum([P[s,a,s1] * (R[s,a,s1] + gamma * V[s1]) for s1 in range (N_STATES)])\n",
        "  if q_sa > q_best:\n",
        "    print(\"State\", s , \":q_sa\", q_sa,\"q_best\", q_best)\n",
        "    policy[s]=a\n",
        "    q_best=q_sa\n",
        "    is_value_changed=True\n",
        "  "
      ],
      "metadata": {
        "colab": {
          "base_uri": "https://localhost:8080/"
        },
        "id": "a1V7fL-VFtmN",
        "outputId": "c017cd9a-ed3b-4420-d4f7-990cbb0e68d6"
      },
      "execution_count": null,
      "outputs": [
        {
          "output_type": "stream",
          "name": "stdout",
          "text": [
            "State 4 :q_sa 1.75 q_best 1.0\n"
          ]
        }
      ]
    },
    {
      "cell_type": "code",
      "source": [
        "print(\"Iteration:\" , iterations)"
      ],
      "metadata": {
        "colab": {
          "base_uri": "https://localhost:8080/"
        },
        "id": "W9qqSrO7IFUR",
        "outputId": "a0e59c58-1a76-4307-850e-64167194f11c"
      },
      "execution_count": null,
      "outputs": [
        {
          "output_type": "stream",
          "name": "stdout",
          "text": [
            "Iteration: 1\n"
          ]
        }
      ]
    },
    {
      "cell_type": "code",
      "source": [
        "print(q_best)"
      ],
      "metadata": {
        "colab": {
          "base_uri": "https://localhost:8080/"
        },
        "id": "MBYNaE4XInog",
        "outputId": "027376f4-f168-425f-efea-270a352ce88b"
      },
      "execution_count": null,
      "outputs": [
        {
          "output_type": "stream",
          "name": "stdout",
          "text": [
            "1.75\n"
          ]
        }
      ]
    },
    {
      "cell_type": "code",
      "source": [
        "print(V)"
      ],
      "metadata": {
        "colab": {
          "base_uri": "https://localhost:8080/"
        },
        "id": "QoUdyWrOItzh",
        "outputId": "33b0f2e8-d57f-42f3-817c-53b757fb294e"
      },
      "execution_count": null,
      "outputs": [
        {
          "output_type": "stream",
          "name": "stdout",
          "text": [
            "[  1.   0. 100.   0.   1.]\n"
          ]
        }
      ]
    },
    {
      "cell_type": "code",
      "source": [
        "print(policy)"
      ],
      "metadata": {
        "colab": {
          "base_uri": "https://localhost:8080/"
        },
        "id": "nSr7Vb61Iv5b",
        "outputId": "d7fcd5a5-4e56-4736-865a-6a632c263f75"
      },
      "execution_count": null,
      "outputs": [
        {
          "output_type": "stream",
          "name": "stdout",
          "text": [
            "[0, 0, 0, 0, 0]\n"
          ]
        }
      ]
    }
  ]
}